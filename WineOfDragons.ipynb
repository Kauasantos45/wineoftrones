{
 "cells": [
  {
   "cell_type": "markdown",
   "id": "ff0489d2a1d2cb67",
   "metadata": {},
   "source": [
    "EXPLORAÇÃO DOS DADOS"
   ]
  },
  {
   "cell_type": "code",
   "execution_count": 1,
   "id": "dea2a44b81aec5ac",
   "metadata": {
    "ExecuteTime": {
     "end_time": "2024-02-18T01:50:47.578307Z",
     "start_time": "2024-02-18T01:50:17.452516Z"
    }
   },
   "outputs": [
    {
     "name": "stdout",
     "output_type": "stream",
     "text": [
      "Requirement already satisfied: numpy in c:\\users\\kauas\\anaconda3\\lib\\site-packages (1.24.3)\n",
      "Requirement already satisfied: matplotlib in c:\\users\\kauas\\anaconda3\\lib\\site-packages (3.7.2)\n",
      "Requirement already satisfied: contourpy>=1.0.1 in c:\\users\\kauas\\anaconda3\\lib\\site-packages (from matplotlib) (1.0.5)\n",
      "Requirement already satisfied: cycler>=0.10 in c:\\users\\kauas\\anaconda3\\lib\\site-packages (from matplotlib) (0.11.0)\n",
      "Requirement already satisfied: fonttools>=4.22.0 in c:\\users\\kauas\\anaconda3\\lib\\site-packages (from matplotlib) (4.25.0)\n",
      "Requirement already satisfied: kiwisolver>=1.0.1 in c:\\users\\kauas\\anaconda3\\lib\\site-packages (from matplotlib) (1.4.4)\n",
      "Requirement already satisfied: numpy>=1.20 in c:\\users\\kauas\\anaconda3\\lib\\site-packages (from matplotlib) (1.24.3)\n",
      "Requirement already satisfied: packaging>=20.0 in c:\\users\\kauas\\anaconda3\\lib\\site-packages (from matplotlib) (23.1)\n",
      "Requirement already satisfied: pillow>=6.2.0 in c:\\users\\kauas\\anaconda3\\lib\\site-packages (from matplotlib) (9.4.0)\n",
      "Requirement already satisfied: pyparsing<3.1,>=2.3.1 in c:\\users\\kauas\\anaconda3\\lib\\site-packages (from matplotlib) (3.0.9)\n",
      "Requirement already satisfied: python-dateutil>=2.7 in c:\\users\\kauas\\anaconda3\\lib\\site-packages (from matplotlib) (2.8.2)\n",
      "Requirement already satisfied: six>=1.5 in c:\\users\\kauas\\anaconda3\\lib\\site-packages (from python-dateutil>=2.7->matplotlib) (1.16.0)\n",
      "Requirement already satisfied: pandas in c:\\users\\kauas\\anaconda3\\lib\\site-packages (2.0.3)\n",
      "Requirement already satisfied: python-dateutil>=2.8.2 in c:\\users\\kauas\\anaconda3\\lib\\site-packages (from pandas) (2.8.2)\n",
      "Requirement already satisfied: pytz>=2020.1 in c:\\users\\kauas\\anaconda3\\lib\\site-packages (from pandas) (2023.3.post1)\n",
      "Requirement already satisfied: tzdata>=2022.1 in c:\\users\\kauas\\anaconda3\\lib\\site-packages (from pandas) (2023.3)\n",
      "Requirement already satisfied: numpy>=1.21.0 in c:\\users\\kauas\\anaconda3\\lib\\site-packages (from pandas) (1.24.3)\n",
      "Requirement already satisfied: six>=1.5 in c:\\users\\kauas\\anaconda3\\lib\\site-packages (from python-dateutil>=2.8.2->pandas) (1.16.0)\n",
      "Requirement already satisfied: seaborn in c:\\users\\kauas\\anaconda3\\lib\\site-packages (0.12.2)\n",
      "Requirement already satisfied: numpy!=1.24.0,>=1.17 in c:\\users\\kauas\\anaconda3\\lib\\site-packages (from seaborn) (1.24.3)\n",
      "Requirement already satisfied: pandas>=0.25 in c:\\users\\kauas\\anaconda3\\lib\\site-packages (from seaborn) (2.0.3)\n",
      "Requirement already satisfied: matplotlib!=3.6.1,>=3.1 in c:\\users\\kauas\\anaconda3\\lib\\site-packages (from seaborn) (3.7.2)\n",
      "Requirement already satisfied: contourpy>=1.0.1 in c:\\users\\kauas\\anaconda3\\lib\\site-packages (from matplotlib!=3.6.1,>=3.1->seaborn) (1.0.5)\n",
      "Requirement already satisfied: cycler>=0.10 in c:\\users\\kauas\\anaconda3\\lib\\site-packages (from matplotlib!=3.6.1,>=3.1->seaborn) (0.11.0)\n",
      "Requirement already satisfied: fonttools>=4.22.0 in c:\\users\\kauas\\anaconda3\\lib\\site-packages (from matplotlib!=3.6.1,>=3.1->seaborn) (4.25.0)\n",
      "Requirement already satisfied: kiwisolver>=1.0.1 in c:\\users\\kauas\\anaconda3\\lib\\site-packages (from matplotlib!=3.6.1,>=3.1->seaborn) (1.4.4)\n",
      "Requirement already satisfied: packaging>=20.0 in c:\\users\\kauas\\anaconda3\\lib\\site-packages (from matplotlib!=3.6.1,>=3.1->seaborn) (23.1)\n",
      "Requirement already satisfied: pillow>=6.2.0 in c:\\users\\kauas\\anaconda3\\lib\\site-packages (from matplotlib!=3.6.1,>=3.1->seaborn) (9.4.0)\n",
      "Requirement already satisfied: pyparsing<3.1,>=2.3.1 in c:\\users\\kauas\\anaconda3\\lib\\site-packages (from matplotlib!=3.6.1,>=3.1->seaborn) (3.0.9)\n",
      "Requirement already satisfied: python-dateutil>=2.7 in c:\\users\\kauas\\anaconda3\\lib\\site-packages (from matplotlib!=3.6.1,>=3.1->seaborn) (2.8.2)\n",
      "Requirement already satisfied: pytz>=2020.1 in c:\\users\\kauas\\anaconda3\\lib\\site-packages (from pandas>=0.25->seaborn) (2023.3.post1)\n",
      "Requirement already satisfied: tzdata>=2022.1 in c:\\users\\kauas\\anaconda3\\lib\\site-packages (from pandas>=0.25->seaborn) (2023.3)\n",
      "Requirement already satisfied: six>=1.5 in c:\\users\\kauas\\anaconda3\\lib\\site-packages (from python-dateutil>=2.7->matplotlib!=3.6.1,>=3.1->seaborn) (1.16.0)\n",
      "Requirement already satisfied: scikit_learn in c:\\users\\kauas\\anaconda3\\lib\\site-packages (1.3.0)\n",
      "Requirement already satisfied: numpy>=1.17.3 in c:\\users\\kauas\\anaconda3\\lib\\site-packages (from scikit_learn) (1.24.3)\n",
      "Requirement already satisfied: scipy>=1.5.0 in c:\\users\\kauas\\anaconda3\\lib\\site-packages (from scikit_learn) (1.11.1)\n",
      "Requirement already satisfied: joblib>=1.1.1 in c:\\users\\kauas\\anaconda3\\lib\\site-packages (from scikit_learn) (1.2.0)\n",
      "Requirement already satisfied: threadpoolctl>=2.0.0 in c:\\users\\kauas\\anaconda3\\lib\\site-packages (from scikit_learn) (2.2.0)\n"
     ]
    }
   ],
   "source": [
    "!pip install numpy \n",
    "!pip install matplotlib \n",
    "!pip install pandas \n",
    "!pip install seaborn \n",
    "!pip install scikit_learn"
   ]
  },
  {
   "cell_type": "code",
   "execution_count": 2,
   "id": "initial_id",
   "metadata": {
    "ExecuteTime": {
     "end_time": "2024-02-18T01:50:54.551793Z",
     "start_time": "2024-02-18T01:50:52.891305Z"
    }
   },
   "outputs": [],
   "source": [
    "import numpy as np\n",
    "import matplotlib.pyplot as plt\n",
    "import pandas as pd\n",
    "from time import time\n",
    "from IPython.display import display\n",
    "import seaborn as sns\n",
    "import visuals as vs\n",
    "\n",
    "%matplotlib inline"
   ]
  },
  {
   "cell_type": "code",
   "execution_count": 3,
   "id": "da23f6f180f872cb",
   "metadata": {
    "ExecuteTime": {
     "end_time": "2024-02-17T20:45:29.169085Z",
     "start_time": "2024-02-17T20:45:29.130811Z"
    }
   },
   "outputs": [
    {
     "data": {
      "text/html": [
       "<div>\n",
       "<style scoped>\n",
       "    .dataframe tbody tr th:only-of-type {\n",
       "        vertical-align: middle;\n",
       "    }\n",
       "\n",
       "    .dataframe tbody tr th {\n",
       "        vertical-align: top;\n",
       "    }\n",
       "\n",
       "    .dataframe thead th {\n",
       "        text-align: right;\n",
       "    }\n",
       "</style>\n",
       "<table border=\"1\" class=\"dataframe\">\n",
       "  <thead>\n",
       "    <tr style=\"text-align: right;\">\n",
       "      <th></th>\n",
       "      <th>Acidez Fixa A</th>\n",
       "      <th>Acidez Volatil A</th>\n",
       "      <th>acido Citrico</th>\n",
       "      <th>Acucares Residuais</th>\n",
       "      <th>Cloreto</th>\n",
       "      <th>dioxido de enxofre livre</th>\n",
       "      <th>Niveis de dioxido de enxofre</th>\n",
       "      <th>densidade</th>\n",
       "      <th>pH</th>\n",
       "      <th>sulfatos</th>\n",
       "      <th>alcool</th>\n",
       "      <th>qualidade</th>\n",
       "    </tr>\n",
       "  </thead>\n",
       "  <tbody>\n",
       "    <tr>\n",
       "      <th>0</th>\n",
       "      <td>7.4</td>\n",
       "      <td>0.70</td>\n",
       "      <td>0.00</td>\n",
       "      <td>1.9</td>\n",
       "      <td>0.076</td>\n",
       "      <td>11.0</td>\n",
       "      <td>34.0</td>\n",
       "      <td>0.9978</td>\n",
       "      <td>3.51</td>\n",
       "      <td>0.56</td>\n",
       "      <td>9.4</td>\n",
       "      <td>5</td>\n",
       "    </tr>\n",
       "    <tr>\n",
       "      <th>1</th>\n",
       "      <td>7.8</td>\n",
       "      <td>0.88</td>\n",
       "      <td>0.00</td>\n",
       "      <td>2.6</td>\n",
       "      <td>0.098</td>\n",
       "      <td>25.0</td>\n",
       "      <td>67.0</td>\n",
       "      <td>0.9968</td>\n",
       "      <td>3.20</td>\n",
       "      <td>0.68</td>\n",
       "      <td>9.8</td>\n",
       "      <td>5</td>\n",
       "    </tr>\n",
       "    <tr>\n",
       "      <th>2</th>\n",
       "      <td>7.8</td>\n",
       "      <td>0.76</td>\n",
       "      <td>0.04</td>\n",
       "      <td>2.3</td>\n",
       "      <td>0.092</td>\n",
       "      <td>15.0</td>\n",
       "      <td>54.0</td>\n",
       "      <td>0.9970</td>\n",
       "      <td>3.26</td>\n",
       "      <td>0.65</td>\n",
       "      <td>9.8</td>\n",
       "      <td>5</td>\n",
       "    </tr>\n",
       "    <tr>\n",
       "      <th>3</th>\n",
       "      <td>11.2</td>\n",
       "      <td>0.28</td>\n",
       "      <td>0.56</td>\n",
       "      <td>1.9</td>\n",
       "      <td>0.075</td>\n",
       "      <td>17.0</td>\n",
       "      <td>60.0</td>\n",
       "      <td>0.9980</td>\n",
       "      <td>3.16</td>\n",
       "      <td>0.58</td>\n",
       "      <td>9.8</td>\n",
       "      <td>6</td>\n",
       "    </tr>\n",
       "    <tr>\n",
       "      <th>4</th>\n",
       "      <td>7.4</td>\n",
       "      <td>0.70</td>\n",
       "      <td>0.00</td>\n",
       "      <td>1.9</td>\n",
       "      <td>0.076</td>\n",
       "      <td>11.0</td>\n",
       "      <td>34.0</td>\n",
       "      <td>0.9978</td>\n",
       "      <td>3.51</td>\n",
       "      <td>0.56</td>\n",
       "      <td>9.4</td>\n",
       "      <td>5</td>\n",
       "    </tr>\n",
       "  </tbody>\n",
       "</table>\n",
       "</div>"
      ],
      "text/plain": [
       "   Acidez Fixa A  Acidez Volatil A  acido Citrico  Acucares Residuais  \\\n",
       "0            7.4              0.70           0.00                 1.9   \n",
       "1            7.8              0.88           0.00                 2.6   \n",
       "2            7.8              0.76           0.04                 2.3   \n",
       "3           11.2              0.28           0.56                 1.9   \n",
       "4            7.4              0.70           0.00                 1.9   \n",
       "\n",
       "   Cloreto  dioxido de enxofre livre  Niveis de dioxido de enxofre  densidade  \\\n",
       "0    0.076                      11.0                          34.0     0.9978   \n",
       "1    0.098                      25.0                          67.0     0.9968   \n",
       "2    0.092                      15.0                          54.0     0.9970   \n",
       "3    0.075                      17.0                          60.0     0.9980   \n",
       "4    0.076                      11.0                          34.0     0.9978   \n",
       "\n",
       "     pH  sulfatos alcool  qualidade  \n",
       "0  3.51      0.56    9.4          5  \n",
       "1  3.20      0.68    9.8          5  \n",
       "2  3.26      0.65    9.8          5  \n",
       "3  3.16      0.58    9.8          6  \n",
       "4  3.51      0.56    9.4          5  "
      ]
     },
     "metadata": {},
     "output_type": "display_data"
    }
   ],
   "source": [
    "df = pd.read_csv(\"winequality-red.csv\", sep=';')\n",
    "\n",
    "# Display the first five records\n",
    "display(df.head(n=5))"
   ]
  },
  {
   "cell_type": "markdown",
   "id": "94e590d4c7b8d9d0",
   "metadata": {},
   "source": [
    "\n",
    "VERIFICAR SE EXISTEM DADOS VAZIO\n"
   ]
  },
  {
   "cell_type": "code",
   "execution_count": 4,
   "id": "aaa79ad3248f6083",
   "metadata": {
    "ExecuteTime": {
     "end_time": "2024-02-17T20:46:36.097419Z",
     "start_time": "2024-02-17T20:46:36.074645Z"
    }
   },
   "outputs": [
    {
     "data": {
      "text/plain": [
       "Acidez Fixa A                   False\n",
       "Acidez Volatil A                False\n",
       "acido Citrico                   False\n",
       "Acucares Residuais              False\n",
       "Cloreto                         False\n",
       "dioxido de enxofre livre        False\n",
       "Niveis de dioxido de enxofre    False\n",
       "densidade                       False\n",
       "pH                              False\n",
       "sulfatos                        False\n",
       "alcool                          False\n",
       "qualidade                       False\n",
       "dtype: bool"
      ]
     },
     "execution_count": 4,
     "metadata": {},
     "output_type": "execute_result"
    }
   ],
   "source": [
    "\n",
    "\n",
    "df.isnull().any()"
   ]
  },
  {
   "cell_type": "markdown",
   "id": "95783023a048ba89",
   "metadata": {},
   "source": [
    "Obtendo Informações do conjunto de dados"
   ]
  },
  {
   "cell_type": "code",
   "execution_count": 5,
   "id": "1f88a5b541e39b1",
   "metadata": {
    "ExecuteTime": {
     "end_time": "2024-02-17T20:48:41.725769Z",
     "start_time": "2024-02-17T20:48:41.692103Z"
    }
   },
   "outputs": [
    {
     "name": "stdout",
     "output_type": "stream",
     "text": [
      "<class 'pandas.core.frame.DataFrame'>\n",
      "RangeIndex: 1599 entries, 0 to 1598\n",
      "Data columns (total 12 columns):\n",
      " #   Column                        Non-Null Count  Dtype  \n",
      "---  ------                        --------------  -----  \n",
      " 0   Acidez Fixa A                 1599 non-null   float64\n",
      " 1   Acidez Volatil A              1599 non-null   float64\n",
      " 2   acido Citrico                 1599 non-null   float64\n",
      " 3   Acucares Residuais            1599 non-null   float64\n",
      " 4   Cloreto                       1599 non-null   float64\n",
      " 5   dioxido de enxofre livre      1599 non-null   float64\n",
      " 6   Niveis de dioxido de enxofre  1599 non-null   float64\n",
      " 7   densidade                     1599 non-null   float64\n",
      " 8   pH                            1599 non-null   float64\n",
      " 9   sulfatos                      1599 non-null   float64\n",
      " 10  alcool                        1599 non-null   object \n",
      " 11  qualidade                     1599 non-null   int64  \n",
      "dtypes: float64(10), int64(1), object(1)\n",
      "memory usage: 150.0+ KB\n"
     ]
    }
   ],
   "source": [
    "df.info()"
   ]
  },
  {
   "cell_type": "markdown",
   "id": "bf7092303cab4ece",
   "metadata": {},
   "source": [
    "\n",
    "Vamos tentar fazer algumas análises preliminares aos nossos vinhos.\n",
    "Vinhos maior ou igual a 7 como bom:\n",
    "Vinhos entre 5 e 6 como sendo de qualidade média:\n",
    "Vinhos com menos de 5 como sendo de qualidade ruim:\n"
   ]
  },
  {
   "cell_type": "code",
   "execution_count": 6,
   "id": "a018f0f6465c8dfe",
   "metadata": {
    "ExecuteTime": {
     "end_time": "2024-02-18T01:43:47.135507Z",
     "start_time": "2024-02-18T01:43:46.963124Z"
    }
   },
   "outputs": [
    {
     "ename": "NameError",
     "evalue": "name 'data' is not defined",
     "output_type": "error",
     "traceback": [
      "\u001b[1;31m---------------------------------------------------------------------------\u001b[0m",
      "\u001b[1;31mNameError\u001b[0m                                 Traceback (most recent call last)",
      "Cell \u001b[1;32mIn[6], line 4\u001b[0m\n\u001b[0;32m      1\u001b[0m n_vinhos \u001b[38;5;241m=\u001b[39m df\u001b[38;5;241m.\u001b[39mshape[\u001b[38;5;241m0\u001b[39m]\n\u001b[0;32m      3\u001b[0m \u001b[38;5;66;03m#vinhos com qualidade maior que 6\u001b[39;00m\n\u001b[1;32m----> 4\u001b[0m qualidade_maior_6 \u001b[38;5;241m=\u001b[39m df\u001b[38;5;241m.\u001b[39mloc[(data[\u001b[38;5;124m'\u001b[39m\u001b[38;5;124mqualidade\u001b[39m\u001b[38;5;124m'\u001b[39m]\u001b[38;5;241m>\u001b[39m \u001b[38;5;241m6\u001b[39m )]\n\u001b[0;32m      5\u001b[0m n_maior_6 \u001b[38;5;241m=\u001b[39m qualidade_maior_6\u001b[38;5;241m.\u001b[39mshape[\u001b[38;5;241m0\u001b[39m]\n\u001b[0;32m      7\u001b[0m \u001b[38;5;66;03m#vinho com qualidade abaixo que 5\u001b[39;00m\n",
      "\u001b[1;31mNameError\u001b[0m: name 'data' is not defined"
     ]
    }
   ],
   "source": [
    "n_vinhos = df.shape[0]\n",
    "\n",
    "#vinhos com qualidade maior que 6\n",
    "qualidade_maior_6 = df.loc[(df['qualidade']> 6 )]\n",
    "n_maior_6 = qualidade_maior_6.shape[0]\n",
    "\n",
    "#vinho com qualidade abaixo que 5\n",
    "qualidade_maior_5 = df.loc[(df['qualidade']< 5 )]\n",
    "n_menor_5 = qualidade_maior_5.shape[0]\n",
    "\n",
    "#vinhos com qualidade entre 5 e 6\n",
    "qualidade_entre_5 = df.loc[(df['qualidade'] >= 5) & (df['qualidade'] <=6 )]\n",
    "n_entre_5 = qualidade_entre_5.shape[0]\n",
    "\n",
    "porcent_maior = n_maior_6*100/n_vinhos\n",
    "\n",
    "print(\"Número total de dados de vinho: {}\".format(n_vinhos))\n",
    "print(\"Vinhos com avaliação 7 e acima: {}\".format(n_maior_6))\n",
    "print(\"Vinhos com avaliação menor que 5: {}\".format(n_menor_5))\n",
    "print(\"Vinhos com avaliação 5 e 6: {}\".format(n_entre_5))\n",
    "print(\"Percentual de vinhos com qualidade 7 e acima: {:.2f}%\".format(porcent_maior))\n",
    "\n",
    "display(np.round(df.describe()))\n"
   ]
  },
  {
   "cell_type": "code",
   "execution_count": null,
   "id": "7c4f85f731b4d4c8",
   "metadata": {
    "ExecuteTime": {
     "end_time": "2024-02-18T01:55:48.131477Z",
     "start_time": "2024-02-18T01:55:47.805958Z"
    }
   },
   "outputs": [],
   "source": [
    "vs.distribution(df, \"qualidade\")"
   ]
  },
  {
   "cell_type": "code",
   "execution_count": null,
   "id": "9ce74d24447f9119",
   "metadata": {
    "ExecuteTime": {
     "end_time": "2024-02-18T03:26:31.232896Z",
     "start_time": "2024-02-18T03:26:30.880147Z"
    }
   },
   "outputs": [],
   "source": [
    "display(np.round(df.describe()))   "
   ]
  },
  {
   "cell_type": "code",
   "execution_count": null,
   "id": "be8af04e1fc5c4dc",
   "metadata": {
    "ExecuteTime": {
     "end_time": "2024-02-18T03:47:25.001256Z",
     "start_time": "2024-02-18T03:47:14.995560Z"
    }
   },
   "outputs": [],
   "source": [
    "\n",
    "pd.plotting.scatter_matrix(df,alpha=0.3,figsize=(40,40), diagonal='kde')"
   ]
  },
  {
   "cell_type": "code",
   "execution_count": null,
   "id": "947769f69045e7ff",
   "metadata": {
    "ExecuteTime": {
     "end_time": "2024-02-18T03:51:55.838768Z",
     "start_time": "2024-02-18T03:51:55.081620Z"
    }
   },
   "outputs": [],
   "source": [
    "df = df.apply(pd.to_numeric, errors='coerce')\n",
    "correlacao = df.corr()\n",
    "\n",
    "plt.figure(figsize=(14,12))\n",
    "mapa_de_calor = sns.heatmap(correlacao, annot=True, linewidths=0, vmin=-1, vmax=1, cmap='RdBu_r')\n",
    "\n",
    "plt.tight_layout()\n",
    "\n",
    "# Mostrar o gráfico\n",
    "plt.show()"
   ]
  },
  {
   "cell_type": "markdown",
   "id": "33e66ef2bf7572ce",
   "metadata": {},
   "source": [
    "pH vs. Acidez Fixa"
   ]
  },
  {
   "cell_type": "code",
   "execution_count": null,
   "id": "a6b5ae4aba7c379d",
   "metadata": {
    "ExecuteTime": {
     "end_time": "2024-02-18T23:58:36.599094Z",
     "start_time": "2024-02-18T23:58:21.758110Z"
    }
   },
   "outputs": [],
   "source": [
    "\n",
    "acidez_fixa_x_ph = df[['pH', 'Acidez Fixa A']]\n",
    "\n",
    "grid_a = sns.JointGrid(x=\"Acidez Fixa A\", y=\"pH\", data=acidez_fixa_x_ph, height=6)\n",
    "\n",
    "grid_a = grid_a.plot_joint(sns.regplot, scatter_kws={\"s\": 10})\n",
    "\n",
    "grid_a = grid_a.plot_marginals(sns.histplot, kde_kws={\"color\": \"k\"})\n"
   ]
  },
  {
   "cell_type": "markdown",
   "id": "d03053a04967c44b",
   "metadata": {},
   "source": [
    "Acidez Fixa vs. Ácido Cítrico"
   ]
  },
  {
   "cell_type": "code",
   "execution_count": null,
   "id": "8d0f103f278fdd20",
   "metadata": {
    "ExecuteTime": {
     "end_time": "2024-02-19T00:07:37.949873Z",
     "start_time": "2024-02-19T00:07:37.020547Z"
    }
   },
   "outputs": [],
   "source": [
    "acidez_fixa_x_acido = df[['Acidez Fixa A', 'acido Citrico']]\n",
    "\n",
    "a = sns.jointplot(x=\"Acidez Fixa A\", y=\"acido Citrico\", data=acidez_fixa_x_acido, height = 6)\n",
    "a = a.plot_joint(sns.regplot, scatter_kws={\"s\":10})\n",
    "a = a.plot_marginals(sns.histplot, kde_kws={\"color\": \"k\"})\n"
   ]
  },
  {
   "cell_type": "markdown",
   "id": "103dd6220f3edfd5",
   "metadata": {},
   "source": [
    "Acidez Volátil vs Qualidade"
   ]
  },
  {
   "cell_type": "code",
   "execution_count": null,
   "id": "a668a05583d76bc",
   "metadata": {
    "ExecuteTime": {
     "end_time": "2024-02-19T00:10:55.797761Z",
     "start_time": "2024-02-19T00:10:55.243150Z"
    }
   },
   "outputs": [],
   "source": [
    "Acidezvolatil_x_qualidade = df[[\"Acidez Volatil A\", \"qualidade\"]]\n",
    "\n",
    "fig, axs = plt.subplots(ncols=1,figsize=(10,6))\n",
    "sns.barplot(x='qualidade', y='Acidez Volatil A', data=Acidezvolatil_x_qualidade, ax=axs)\n",
    "plt.title('Qualidade vs Acidez Volatil')\n",
    "\n",
    "plt.tight_layout()\n",
    "plt.show()\n",
    "plt.gcf().clear()"
   ]
  },
  {
   "cell_type": "markdown",
   "id": "6a4b826a7217e4f9",
   "metadata": {},
   "source": [
    "Álcool vs. Qualidade"
   ]
  },
  {
   "cell_type": "code",
   "execution_count": null,
   "id": "df5d6c3e8cb4a82b",
   "metadata": {
    "ExecuteTime": {
     "end_time": "2024-02-19T00:15:20.597342Z",
     "start_time": "2024-02-19T00:15:19.759260Z"
    }
   },
   "outputs": [],
   "source": [
    "alcool_x_qualidade = df[['alcool', 'qualidade']]\n",
    "\n",
    "fig, axs = plt.subplots(ncols=1,figsize=(10,6))\n",
    "sns.barplot(x='qualidade', y='alcool', data=alcool_x_qualidade, ax=axs)\n",
    "plt.title('Qualidade vs alcool')\n",
    "\n",
    "plt.tight_layout()\n",
    "plt.show()\n",
    "plt.gcf().clear()"
   ]
  },
  {
   "cell_type": "markdown",
   "id": "843ae687eb5960e2",
   "metadata": {},
   "source": [
    "Método de Tukey para detectar valores discrepantes"
   ]
  },
  {
   "cell_type": "code",
   "execution_count": null,
   "id": "7686df988fd1a68a",
   "metadata": {
    "ExecuteTime": {
     "end_time": "2024-02-19T00:54:14.429842Z",
     "start_time": "2024-02-19T00:54:13.111872Z"
    }
   },
   "outputs": [],
   "source": [
    "for feature in df.keys():\n",
    "    Q1 = np.percentile(df[feature], q=25)\n",
    "\n",
    "    Q3 = np.percentile(df[feature], q=75)\n",
    "\n",
    "    interquartile_range = Q3 - Q1\n",
    "    step = 1.5 * interquartile_range\n",
    "\n",
    "    print(\"Pontos de dados considerados como valores atípicos para a característica  '{}':\".format(feature))\n",
    "    display(df[~((df[feature] >= Q1 - step) & (df[feature] <= Q3 + step))])\n",
    "    \n",
    "    outliers = []\n",
    "    good_data = df.drop(df.index[outliers]).reset_index(drop = True)"
   ]
  },
  {
   "cell_type": "code",
   "execution_count": null,
   "id": "657c931268e1bc57",
   "metadata": {},
   "outputs": [],
   "source": []
  }
 ],
 "metadata": {
  "kernelspec": {
   "display_name": "Python 3 (ipykernel)",
   "language": "python",
   "name": "python3"
  },
  "language_info": {
   "codemirror_mode": {
    "name": "ipython",
    "version": 3
   },
   "file_extension": ".py",
   "mimetype": "text/x-python",
   "name": "python",
   "nbconvert_exporter": "python",
   "pygments_lexer": "ipython3",
   "version": "3.11.5"
  }
 },
 "nbformat": 4,
 "nbformat_minor": 5
}
